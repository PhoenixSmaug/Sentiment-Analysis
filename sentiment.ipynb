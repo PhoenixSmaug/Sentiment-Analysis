{
 "cells": [
  {
   "cell_type": "markdown",
   "metadata": {},
   "source": [
    "# Sentiment Analysis on a Twitter dataset."
   ]
  },
  {
   "cell_type": "code",
   "execution_count": 1,
   "metadata": {},
   "outputs": [
    {
     "data": {
      "text/plain": [
       "'NVIDIA GeForce RTX 2080 Super with Max-Q Design'"
      ]
     },
     "execution_count": 1,
     "metadata": {},
     "output_type": "execute_result"
    }
   ],
   "source": [
    "import numpy as np\n",
    "import pandas as pd\n",
    "from sklearn.model_selection import train_test_split\n",
    "from sklearn.metrics import confusion_matrix\n",
    "import matplotlib.pyplot as plt\n",
    "import random\n",
    "import seaborn as sns\n",
    "\n",
    "import torch\n",
    "from torch import nn, optim\n",
    "from torch.utils.data import Dataset, DataLoader\n",
    "from transformers import BertTokenizerFast\n",
    "\n",
    "torch.cuda.get_device_name(0)  # check if GPU is loaded\n"
   ]
  },
  {
   "cell_type": "markdown",
   "metadata": {},
   "source": [
    "For the analysis we choose the \"Twitter Sentiment Analysis\" dataset developed by Sherif Hussein available on [Mendeley Data](https://data.mendeley.com/datasets/z9zw7nt5h2/1). It contains around 160k tweets labelled with one of three sentiments."
   ]
  },
  {
   "cell_type": "code",
   "execution_count": 2,
   "metadata": {},
   "outputs": [
    {
     "data": {
      "text/html": [
       "<div>\n",
       "<style scoped>\n",
       "    .dataframe tbody tr th:only-of-type {\n",
       "        vertical-align: middle;\n",
       "    }\n",
       "\n",
       "    .dataframe tbody tr th {\n",
       "        vertical-align: top;\n",
       "    }\n",
       "\n",
       "    .dataframe thead th {\n",
       "        text-align: right;\n",
       "    }\n",
       "</style>\n",
       "<table border=\"1\" class=\"dataframe\">\n",
       "  <thead>\n",
       "    <tr style=\"text-align: right;\">\n",
       "      <th></th>\n",
       "      <th>clean_text</th>\n",
       "      <th>category</th>\n",
       "    </tr>\n",
       "  </thead>\n",
       "  <tbody>\n",
       "    <tr>\n",
       "      <th>0</th>\n",
       "      <td>when modi promised “minimum government maximum...</td>\n",
       "      <td>-1.0</td>\n",
       "    </tr>\n",
       "    <tr>\n",
       "      <th>1</th>\n",
       "      <td>talk all the nonsense and continue all the dra...</td>\n",
       "      <td>0.0</td>\n",
       "    </tr>\n",
       "    <tr>\n",
       "      <th>2</th>\n",
       "      <td>what did just say vote for modi  welcome bjp t...</td>\n",
       "      <td>1.0</td>\n",
       "    </tr>\n",
       "    <tr>\n",
       "      <th>3</th>\n",
       "      <td>asking his supporters prefix chowkidar their n...</td>\n",
       "      <td>1.0</td>\n",
       "    </tr>\n",
       "    <tr>\n",
       "      <th>4</th>\n",
       "      <td>answer who among these the most powerful world...</td>\n",
       "      <td>1.0</td>\n",
       "    </tr>\n",
       "    <tr>\n",
       "      <th>...</th>\n",
       "      <td>...</td>\n",
       "      <td>...</td>\n",
       "    </tr>\n",
       "    <tr>\n",
       "      <th>162975</th>\n",
       "      <td>why these 456 crores paid neerav modi not reco...</td>\n",
       "      <td>-1.0</td>\n",
       "    </tr>\n",
       "    <tr>\n",
       "      <th>162976</th>\n",
       "      <td>dear rss terrorist payal gawar what about modi...</td>\n",
       "      <td>-1.0</td>\n",
       "    </tr>\n",
       "    <tr>\n",
       "      <th>162977</th>\n",
       "      <td>did you cover her interaction forum where she ...</td>\n",
       "      <td>0.0</td>\n",
       "    </tr>\n",
       "    <tr>\n",
       "      <th>162978</th>\n",
       "      <td>there big project came into india modi dream p...</td>\n",
       "      <td>0.0</td>\n",
       "    </tr>\n",
       "    <tr>\n",
       "      <th>162979</th>\n",
       "      <td>have you ever listen about like gurukul where ...</td>\n",
       "      <td>1.0</td>\n",
       "    </tr>\n",
       "  </tbody>\n",
       "</table>\n",
       "<p>162969 rows × 2 columns</p>\n",
       "</div>"
      ],
      "text/plain": [
       "                                               clean_text  category\n",
       "0       when modi promised “minimum government maximum...      -1.0\n",
       "1       talk all the nonsense and continue all the dra...       0.0\n",
       "2       what did just say vote for modi  welcome bjp t...       1.0\n",
       "3       asking his supporters prefix chowkidar their n...       1.0\n",
       "4       answer who among these the most powerful world...       1.0\n",
       "...                                                   ...       ...\n",
       "162975  why these 456 crores paid neerav modi not reco...      -1.0\n",
       "162976  dear rss terrorist payal gawar what about modi...      -1.0\n",
       "162977  did you cover her interaction forum where she ...       0.0\n",
       "162978  there big project came into india modi dream p...       0.0\n",
       "162979  have you ever listen about like gurukul where ...       1.0\n",
       "\n",
       "[162969 rows x 2 columns]"
      ]
     },
     "execution_count": 2,
     "metadata": {},
     "output_type": "execute_result"
    }
   ],
   "source": [
    "twitter = pd.read_csv(\"data/Twitter_Data.csv\")\n",
    "twitter = twitter.dropna()\n",
    "\n",
    "twitter"
   ]
  },
  {
   "cell_type": "markdown",
   "metadata": {},
   "source": [
    "We start by looking at the distribution of sentiments in the dataset:"
   ]
  },
  {
   "cell_type": "code",
   "execution_count": 16,
   "metadata": {},
   "outputs": [
    {
     "data": {
      "image/png": "[encoded data removed]",
      "text/plain": [
       "<Figure size 800x600 with 1 Axes>"
      ]
     },
     "metadata": {},
     "output_type": "display_data"
    }
   ],
   "source": [
    "sentiment_counts = twitter['category'].value_counts()\n",
    "sentiment_labels = sentiment_counts.index.map({\n",
    "    -1.0: \"Negative\",\n",
    "    0.0: \"Neutral\",\n",
    "    1.0: \"Positive\"\n",
    "})\n",
    "\n",
    "\n",
    "plt.figure(figsize=(8, 6))\n",
    "plt.pie(sentiment_counts, labels=sentiment_labels, autopct='%1.1f%%', startangle=90)\n",
    "plt.title('Distribution of Sentiment')\n",
    "plt.show()"
   ]
  },
  {
   "cell_type": "markdown",
   "metadata": {},
   "source": [
    "Before processing natural language with neural networks we first need to tokenize it. For this we use the state-of-the-art tokenizer BERT presented in [BERT: Pre-training of Deep Bidirectional Transformers for Language Understanding](https://arxiv.org/abs/1810.04805)."
   ]
  },
  {
   "cell_type": "code",
   "execution_count": 3,
   "metadata": {},
   "outputs": [
    {
     "data": {
      "text/html": [
       "<div>\n",
       "<style scoped>\n",
       "    .dataframe tbody tr th:only-of-type {\n",
       "        vertical-align: middle;\n",
       "    }\n",
       "\n",
       "    .dataframe tbody tr th {\n",
       "        vertical-align: top;\n",
       "    }\n",
       "\n",
       "    .dataframe thead th {\n",
       "        text-align: right;\n",
       "    }\n",
       "</style>\n",
       "<table border=\"1\" class=\"dataframe\">\n",
       "  <thead>\n",
       "    <tr style=\"text-align: right;\">\n",
       "      <th></th>\n",
       "      <th>clean_text</th>\n",
       "      <th>category</th>\n",
       "      <th>tokens</th>\n",
       "    </tr>\n",
       "  </thead>\n",
       "  <tbody>\n",
       "    <tr>\n",
       "      <th>0</th>\n",
       "      <td>when modi promised “minimum government maximum...</td>\n",
       "      <td>-1.0</td>\n",
       "      <td>[101, 2043, 16913, 2072, 5763, 1523, 6263, 223...</td>\n",
       "    </tr>\n",
       "    <tr>\n",
       "      <th>1</th>\n",
       "      <td>talk all the nonsense and continue all the dra...</td>\n",
       "      <td>0.0</td>\n",
       "      <td>[101, 2831, 2035, 1996, 14652, 1998, 3613, 203...</td>\n",
       "    </tr>\n",
       "    <tr>\n",
       "      <th>2</th>\n",
       "      <td>what did just say vote for modi  welcome bjp t...</td>\n",
       "      <td>1.0</td>\n",
       "      <td>[101, 2054, 2106, 2074, 2360, 3789, 2005, 1691...</td>\n",
       "    </tr>\n",
       "    <tr>\n",
       "      <th>3</th>\n",
       "      <td>asking his supporters prefix chowkidar their n...</td>\n",
       "      <td>1.0</td>\n",
       "      <td>[101, 4851, 2010, 6793, 17576, 20209, 3211, 76...</td>\n",
       "    </tr>\n",
       "    <tr>\n",
       "      <th>4</th>\n",
       "      <td>answer who among these the most powerful world...</td>\n",
       "      <td>1.0</td>\n",
       "      <td>[101, 3437, 2040, 2426, 2122, 1996, 2087, 3928...</td>\n",
       "    </tr>\n",
       "    <tr>\n",
       "      <th>...</th>\n",
       "      <td>...</td>\n",
       "      <td>...</td>\n",
       "      <td>...</td>\n",
       "    </tr>\n",
       "    <tr>\n",
       "      <th>162975</th>\n",
       "      <td>why these 456 crores paid neerav modi not reco...</td>\n",
       "      <td>-1.0</td>\n",
       "      <td>[101, 2339, 2122, 3429, 2575, 21665, 2015, 382...</td>\n",
       "    </tr>\n",
       "    <tr>\n",
       "      <th>162976</th>\n",
       "      <td>dear rss terrorist payal gawar what about modi...</td>\n",
       "      <td>-1.0</td>\n",
       "      <td>[101, 6203, 12667, 2015, 9452, 3477, 2389, 117...</td>\n",
       "    </tr>\n",
       "    <tr>\n",
       "      <th>162977</th>\n",
       "      <td>did you cover her interaction forum where she ...</td>\n",
       "      <td>0.0</td>\n",
       "      <td>[101, 2106, 2017, 3104, 2014, 8290, 7057, 2073...</td>\n",
       "    </tr>\n",
       "    <tr>\n",
       "      <th>162978</th>\n",
       "      <td>there big project came into india modi dream p...</td>\n",
       "      <td>0.0</td>\n",
       "      <td>[101, 2045, 2502, 2622, 2234, 2046, 2634, 1691...</td>\n",
       "    </tr>\n",
       "    <tr>\n",
       "      <th>162979</th>\n",
       "      <td>have you ever listen about like gurukul where ...</td>\n",
       "      <td>1.0</td>\n",
       "      <td>[101, 2031, 2017, 2412, 4952, 2055, 2066, 1197...</td>\n",
       "    </tr>\n",
       "  </tbody>\n",
       "</table>\n",
       "<p>162969 rows × 3 columns</p>\n",
       "</div>"
      ],
      "text/plain": [
       "                                               clean_text  category  \\\n",
       "0       when modi promised “minimum government maximum...      -1.0   \n",
       "1       talk all the nonsense and continue all the dra...       0.0   \n",
       "2       what did just say vote for modi  welcome bjp t...       1.0   \n",
       "3       asking his supporters prefix chowkidar their n...       1.0   \n",
       "4       answer who among these the most powerful world...       1.0   \n",
       "...                                                   ...       ...   \n",
       "162975  why these 456 crores paid neerav modi not reco...      -1.0   \n",
       "162976  dear rss terrorist payal gawar what about modi...      -1.0   \n",
       "162977  did you cover her interaction forum where she ...       0.0   \n",
       "162978  there big project came into india modi dream p...       0.0   \n",
       "162979  have you ever listen about like gurukul where ...       1.0   \n",
       "\n",
       "                                                   tokens  \n",
       "0       [101, 2043, 16913, 2072, 5763, 1523, 6263, 223...  \n",
       "1       [101, 2831, 2035, 1996, 14652, 1998, 3613, 203...  \n",
       "2       [101, 2054, 2106, 2074, 2360, 3789, 2005, 1691...  \n",
       "3       [101, 4851, 2010, 6793, 17576, 20209, 3211, 76...  \n",
       "4       [101, 3437, 2040, 2426, 2122, 1996, 2087, 3928...  \n",
       "...                                                   ...  \n",
       "162975  [101, 2339, 2122, 3429, 2575, 21665, 2015, 382...  \n",
       "162976  [101, 6203, 12667, 2015, 9452, 3477, 2389, 117...  \n",
       "162977  [101, 2106, 2017, 3104, 2014, 8290, 7057, 2073...  \n",
       "162978  [101, 2045, 2502, 2622, 2234, 2046, 2634, 1691...  \n",
       "162979  [101, 2031, 2017, 2412, 4952, 2055, 2066, 1197...  \n",
       "\n",
       "[162969 rows x 3 columns]"
      ]
     },
     "execution_count": 3,
     "metadata": {},
     "output_type": "execute_result"
    }
   ],
   "source": [
    "tokenizer = BertTokenizerFast.from_pretrained('bert-base-uncased')\n",
    "\n",
    "def tokenize_data(texts):\n",
    "    encoding = tokenizer(\n",
    "        texts,\n",
    "        padding=True,\n",
    "        truncation=True,\n",
    "        max_length=512,  # BERT has a maximum input length of 512 tokens\n",
    "        return_tensors='pt'  # Return as PyTorch tensors\n",
    "    )\n",
    "    return encoding\n",
    "\n",
    "tokenized_data = tokenize_data(twitter['clean_text'].tolist())\n",
    "twitter['tokens'] = tokenized_data['input_ids'].tolist()\n",
    "\n",
    "twitter"
   ]
  },
  {
   "cell_type": "markdown",
   "metadata": {},
   "source": [
    "We can also look at a random sample to illustrate the tokenization process. One can observe that the token vector is padded with $0$, which ensures all vectors have the same length."
   ]
  },
  {
   "cell_type": "code",
   "execution_count": 18,
   "metadata": {},
   "outputs": [
    {
     "name": "stdout",
     "output_type": "stream",
     "text": [
      "Clean Text: congress party fattu they chose second seat for rahul from where bjp weak they claim challengers modi then they should have chosen varanasi but the khandaan fattu \n",
      "Tokens: [101, 3519, 2283, 6638, 8525, 2027, 4900, 2117, 2835, 2005, 10958, 21886, 2013, 2073, 24954, 5410, 2027, 4366, 12932, 2015, 16913, 2072, 2059, 2027, 2323, 2031, 4217, 13075, 5162, 5332, 2021, 1996, 4967, 2850, 2319, 6638, 8525, 102, 0, 0, 0, 0, 0, 0, 0, 0, 0, 0, 0, 0, 0, 0, 0, 0, 0, 0, 0, 0, 0, 0, 0, 0, 0, 0, 0, 0, 0, 0, 0, 0, 0, 0, 0, 0, 0, 0, 0, 0, 0, 0, 0, 0, 0, 0, 0, 0, 0, 0, 0, 0, 0, 0, 0, 0, 0, 0, 0, 0, 0, 0, 0, 0]\n"
     ]
    }
   ],
   "source": [
    "random_row = twitter.sample(n=1).iloc[0]\n",
    "\n",
    "print(\"Clean Text:\", random_row['clean_text'])\n",
    "print(\"Tokens:\", random_row['tokens'])"
   ]
  },
  {
   "cell_type": "markdown",
   "metadata": {},
   "source": [
    "Now we split the dataset into a training dataset, a test dataset and a validation dataset."
   ]
  },
  {
   "cell_type": "code",
   "execution_count": 4,
   "metadata": {},
   "outputs": [
    {
     "name": "stdout",
     "output_type": "stream",
     "text": [
      "Training set size: 130375\n",
      "Validation set size: 16297\n",
      "Test set size: 16297\n"
     ]
    }
   ],
   "source": [
    "category_mapping = {-1.0: 0, 0.0: 1, 1.0: 2}\n",
    "twitter['category'] = twitter['category'].map(category_mapping)\n",
    "\n",
    "X = twitter['tokens'].tolist()  # Input features (tokens)\n",
    "y = twitter['category'].tolist()  # Output labels (category)\n",
    "\n",
    "X_train, X_temp, y_train, y_temp = train_test_split(X, y, test_size=0.2, random_state=42, stratify=y)\n",
    "X_val, X_test, y_val, y_test = train_test_split(X_temp, y_temp, test_size=0.5, random_state=42, stratify=y_temp)\n",
    "\n",
    "print(f'Training set size: {len(X_train)}')\n",
    "print(f'Validation set size: {len(X_val)}')\n",
    "print(f'Test set size: {len(X_test)}')"
   ]
  },
  {
   "cell_type": "markdown",
   "metadata": {},
   "source": [
    "Finally, we implement data loaders for our three datasets. This concludes the preprocessing of the data."
   ]
  },
  {
   "cell_type": "code",
   "execution_count": 5,
   "metadata": {},
   "outputs": [],
   "source": [
    "class TwitterDataset(Dataset):\n",
    "    def __init__(self, tokens, labels):\n",
    "        self.tokens = tokens\n",
    "        self.labels = labels\n",
    "\n",
    "    def __len__(self):\n",
    "        return len(self.labels)\n",
    "\n",
    "    def __getitem__(self, idx):\n",
    "        token_tensor = torch.tensor(self.tokens[idx], dtype=torch.long)\n",
    "        label_tensor = torch.tensor(self.labels[idx], dtype=torch.float)\n",
    "        return token_tensor, label_tensor\n",
    "\n",
    "# Create Dataset objects\n",
    "train_dataset = TwitterDataset(X_train, y_train)\n",
    "val_dataset = TwitterDataset(X_val, y_val)\n",
    "test_dataset = TwitterDataset(X_test, y_test)\n",
    "\n",
    "# Create DataLoaders for each dataset\n",
    "train_loader = DataLoader(train_dataset, batch_size=16, shuffle=True)\n",
    "val_loader = DataLoader(val_dataset, batch_size=16, shuffle=False)\n",
    "test_loader = DataLoader(test_dataset, batch_size=16, shuffle=False)\n"
   ]
  },
  {
   "cell_type": "markdown",
   "metadata": {},
   "source": [
    "### Neural Bag of Words\n",
    "\n",
    "The [Bag-of-words model](https://en.wikipedia.org/wiki/Bag-of-words_model) is a simple natural language neural network model, which makes it a good starting point. Contrary to more advanced architectures, the word order is ignored."
   ]
  },
  {
   "cell_type": "code",
   "execution_count": 20,
   "metadata": {},
   "outputs": [
    {
     "name": "stdout",
     "output_type": "stream",
     "text": [
      "The model has 23,443,203 trainable parameters\n"
     ]
    }
   ],
   "source": [
    "class NBoW(nn.Module):\n",
    "    def __init__(self, vocab_size, embedding_dim, output_dim, pad_index):\n",
    "        super(NBoW, self).__init__()\n",
    "        self.embedding = nn.Embedding(vocab_size, embedding_dim, padding_idx=pad_index)\n",
    "        self.fc = nn.Linear(embedding_dim, output_dim)\n",
    "\n",
    "    def forward(self, ids):\n",
    "        embedded = self.embedding(ids)\n",
    "        pooled = embedded.mean(dim=1)\n",
    "        prediction = self.fc(pooled)\n",
    "        return prediction\n",
    "\n",
    "vocab_size = 30522  # BERT's vocabulary size\n",
    "embedding_dim = 768  # BERT's embedding size\n",
    "output_dim = 3  # 3 output categories\n",
    "pad_index = tokenizer.pad_token_id\n",
    "\n",
    "# Instantiate the model\n",
    "model = NBoW(vocab_size, embedding_dim, output_dim, pad_index)\n",
    "\n",
    "print(f\"The model has {sum(p.numel() for p in model.parameters() if p.requires_grad):,} trainable parameters\")\n",
    "\n",
    "# Set the device (GPU if available)\n",
    "device = torch.device('cuda' if torch.cuda.is_available() else 'cpu')\n",
    "model.to(device)\n",
    "\n",
    "# Loss function and optimizer\n",
    "criterion = nn.CrossEntropyLoss()  # For multi-class classification\n",
    "optimizer = optim.Adam(model.parameters(), lr=0.001)"
   ]
  },
  {
   "cell_type": "markdown",
   "metadata": {},
   "source": [
    "We now train our Neural Bag of Words model and save the weights to disk. The training takes a few minutes, so you can save time by skipping the model training and loading the model from disk."
   ]
  },
  {
   "cell_type": "code",
   "execution_count": 21,
   "metadata": {},
   "outputs": [],
   "source": [
    "# Training function\n",
    "def train_model(model, train_loader, val_loader, criterion, optimizer, num_epochs=6):\n",
    "    for epoch in range(num_epochs):\n",
    "        model.train()  # Set the model to training mode\n",
    "        total_loss = 0\n",
    "\n",
    "        for tokens, labels in train_loader:\n",
    "            tokens, labels = tokens.to(device), labels.to(device)\n",
    "\n",
    "            # Zero the gradients\n",
    "            optimizer.zero_grad()\n",
    "\n",
    "            # Forward pass\n",
    "            predictions = model(tokens)\n",
    "\n",
    "            # Compute loss\n",
    "            loss = criterion(predictions, labels.long())\n",
    "            total_loss += loss.item()\n",
    "\n",
    "            # Backward pass and optimization\n",
    "            loss.backward()\n",
    "            optimizer.step()\n",
    "\n",
    "        avg_loss = total_loss / len(train_loader)\n",
    "        print(f'Epoch: {epoch + 1}/{num_epochs}, Loss: {avg_loss:.4f}')\n",
    "\n",
    "        # Validation\n",
    "        evaluate_model(model, val_loader)\n",
    "\n",
    "def evaluate_model(model, val_loader):\n",
    "    model.eval()  # Set the model to evaluation mode\n",
    "    total_correct = 0\n",
    "    total_samples = 0\n",
    "\n",
    "    with torch.no_grad():  # No need to track gradients\n",
    "        for tokens, labels in val_loader:\n",
    "            tokens, labels = tokens.to(device), labels.to(device)\n",
    "\n",
    "            predictions = model(tokens)\n",
    "            _, predicted_labels = torch.max(predictions, dim=1)\n",
    "\n",
    "            total_correct += (predicted_labels == labels).sum().item()\n",
    "            total_samples += labels.size(0)\n",
    "\n",
    "    accuracy = total_correct / total_samples * 100\n",
    "    print(f'Validation Accuracy: {accuracy:.2f}%')"
   ]
  },
  {
   "cell_type": "code",
   "execution_count": 23,
   "metadata": {},
   "outputs": [
    {
     "name": "stdout",
     "output_type": "stream",
     "text": [
      "Epoch: 1/6, Loss: 0.5393\n",
      "Validation Accuracy: 88.55%\n",
      "Epoch: 2/6, Loss: 0.2762\n",
      "Validation Accuracy: 90.86%\n",
      "Epoch: 3/6, Loss: 0.2266\n",
      "Validation Accuracy: 91.12%\n",
      "Epoch: 4/6, Loss: 0.2049\n",
      "Validation Accuracy: 91.12%\n",
      "Epoch: 5/6, Loss: 0.1912\n",
      "Validation Accuracy: 91.00%\n",
      "Epoch: 6/6, Loss: 0.1818\n",
      "Validation Accuracy: 91.04%\n"
     ]
    }
   ],
   "source": [
    "# Train the model\n",
    "train_model(model, train_loader, val_loader, criterion, optimizer, num_epochs=6)\n",
    "\n",
    "# Save the model\n",
    "torch.save(model.state_dict(), 'nbag.pth')\n"
   ]
  },
  {
   "cell_type": "code",
   "execution_count": 9,
   "metadata": {},
   "outputs": [
    {
     "data": {
      "text/plain": [
       "NBoW(\n",
       "  (embedding): Embedding(30522, 768, padding_idx=0)\n",
       "  (fc): Linear(in_features=768, out_features=3, bias=True)\n",
       ")"
      ]
     },
     "execution_count": 9,
     "metadata": {},
     "output_type": "execute_result"
    }
   ],
   "source": [
    "# Load the model\n",
    "model = NBoW(vocab_size, embedding_dim, output_dim, pad_index)\n",
    "model.load_state_dict(torch.load('nbag.pth', weights_only=True))\n",
    "model.eval()  # Set the model to evaluation mode\n",
    "model.to(device)"
   ]
  },
  {
   "cell_type": "code",
   "execution_count": 10,
   "metadata": {},
   "outputs": [
    {
     "name": "stdout",
     "output_type": "stream",
     "text": [
      "Accuracy: 0.91\n"
     ]
    },
    {
     "data": {
      "image/png": "[encoded data removed]",
      "text/plain": [
       "<Figure size 800x600 with 2 Axes>"
      ]
     },
     "metadata": {},
     "output_type": "display_data"
    }
   ],
   "source": [
    "def evaluate_model_all(model, test_loader, device):\n",
    "    all_predictions = []\n",
    "    all_labels = []\n",
    "\n",
    "    with torch.no_grad():  # Disable gradient calculation\n",
    "        for tokens, labels in test_loader:\n",
    "            tokens = tokens.to(device) \n",
    "            labels = labels.numpy()\n",
    "            \n",
    "            # Get model predictions\n",
    "            logits = model(tokens)\n",
    "            probabilities = torch.softmax(logits, dim=1).cpu().numpy()\n",
    "            predicted_classes = np.argmax(probabilities, axis=1)\n",
    "\n",
    "            all_predictions.extend(predicted_classes)\n",
    "            all_labels.extend(labels)\n",
    "\n",
    "    return np.array(all_labels), np.array(all_predictions)\n",
    "\n",
    "def plot_confusion_matrix(y_true, y_pred, classes):\n",
    "    cm = confusion_matrix(y_true, y_pred)\n",
    "    plt.figure(figsize=(8, 6))\n",
    "    sns.heatmap(cm, annot=True, fmt='d', cmap='Blues', xticklabels=classes, yticklabels=classes)\n",
    "    plt.ylabel('True label')\n",
    "    plt.xlabel('Predicted label')\n",
    "    plt.title('Confusion Matrix')\n",
    "    plt.show()\n",
    "\n",
    "# Assuming you have a list of class names\n",
    "class_names = ['Negative (-1)', 'Neutral (0)', 'Positive (1)']\n",
    "\n",
    "# Evaluate the model and get predictions\n",
    "y_true, y_pred = evaluate_model_all(model, test_loader, device)\n",
    "\n",
    "accuracy = np.mean(y_true == y_pred)\n",
    "print(f\"Accuracy: {accuracy:.2f}\")\n",
    "\n",
    "# Plot the confusion matrix\n",
    "plot_confusion_matrix(y_true, y_pred, class_names)\n",
    "\n"
   ]
  },
  {
   "cell_type": "markdown",
   "metadata": {},
   "source": [
    "The model achieves an accuracy of around $91 \\%$, which is not bad for a model without any information about word ordering."
   ]
  },
  {
   "cell_type": "markdown",
   "metadata": {},
   "source": [
    "### Recurrent Neural Network\n",
    "\n",
    "We now want to include the information contained in the word order, so for the next architecture we choose a [Recurrent Neural Network](https://en.wikipedia.org/wiki/Recurrent_neural_network). These models are specifically designed for sequential data."
   ]
  },
  {
   "cell_type": "code",
   "execution_count": 24,
   "metadata": {},
   "outputs": [
    {
     "name": "stdout",
     "output_type": "stream",
     "text": [
      "The RNN model has 26,201,091 trainable parameters\n"
     ]
    }
   ],
   "source": [
    "class RNN_GRU(nn.Module):\n",
    "    def __init__(self, vocab_size, embedding_dim, hidden_dim, output_dim, n_layers, \n",
    "                 bidirectional, dropout, pad_index):\n",
    "        super(RNN_GRU, self).__init__()\n",
    "        \n",
    "        # Embedding layer\n",
    "        self.embedding = nn.Embedding(vocab_size, embedding_dim, padding_idx=pad_index)\n",
    "        \n",
    "        # GRU layer\n",
    "        self.gru = nn.GRU(embedding_dim,\n",
    "                         hidden_dim,\n",
    "                         num_layers=n_layers,\n",
    "                         bidirectional=bidirectional,\n",
    "                         batch_first=True,\n",
    "                         dropout=dropout if n_layers > 1 else 0)\n",
    "        \n",
    "        # Fully connected layer\n",
    "        # If bidirectional, multiply hidden_dim by 2\n",
    "        self.fc = nn.Linear(hidden_dim * 2 if bidirectional else hidden_dim, output_dim)\n",
    "        \n",
    "        # Dropout layer\n",
    "        self.dropout = nn.Dropout(dropout)\n",
    "        \n",
    "    def forward(self, text):\n",
    "        # text shape: [batch size, sentence length]\n",
    "        \n",
    "        # Embed the text\n",
    "        # embedded shape: [batch size, sentence length, embedding dim]\n",
    "        embedded = self.dropout(self.embedding(text))\n",
    "        \n",
    "        # Pass through GRU\n",
    "        # output shape: [batch size, sentence length, hidden dim * n_directions]\n",
    "        # hidden shape: [n_layers * n_directions, batch size, hidden dim]\n",
    "        output, hidden = self.gru(embedded)\n",
    "        \n",
    "        # If bidirectional, concatenate the final forward and backward hidden states\n",
    "        if isinstance(hidden, tuple):\n",
    "            hidden = hidden[0]  # For LSTM\n",
    "        \n",
    "        if self.gru.bidirectional:\n",
    "            hidden = torch.cat((hidden[-2,:,:], hidden[-1,:,:]), dim=1)\n",
    "        else:\n",
    "            hidden = hidden[-1,:,:]\n",
    "            \n",
    "        # Apply dropout to the final hidden state\n",
    "        hidden = self.dropout(hidden)\n",
    "        \n",
    "        # Pass through linear layer\n",
    "        # prediction shape: [batch size, output dim]\n",
    "        prediction = self.fc(hidden)\n",
    "        \n",
    "        return prediction\n",
    "\n",
    "# Improved hyperparameters\n",
    "vocab_size = 30522  # BERT's vocabulary size\n",
    "embedding_dim = 768  # BERT's embedding size\n",
    "hidden_dim = 256    # Hidden dimension for GRU\n",
    "output_dim = 3      # 3 output categories (negative, neutral, positive)\n",
    "n_layers = 2        # Number of GRU layers\n",
    "bidirectional = True  # Use bidirectional GRU\n",
    "dropout = 0.3       # Dropout rate\n",
    "pad_index = tokenizer.pad_token_id\n",
    "\n",
    "\n",
    "# Instantiate the model\n",
    "rnn_model = RNN_GRU(vocab_size, embedding_dim, hidden_dim, output_dim, \n",
    "                n_layers, bidirectional, dropout, pad_index)\n",
    "\n",
    "print(f\"The RNN model has {sum(p.numel() for p in rnn_model.parameters() if p.requires_grad):,} trainable parameters\")\n",
    "\n",
    "rnn_model.to(device)\n",
    "\n",
    "criterion_rnn = nn.CrossEntropyLoss()\n",
    "optimizer_rnn = optim.Adam(rnn_model.parameters(), lr=0.001)"
   ]
  },
  {
   "cell_type": "code",
   "execution_count": 25,
   "metadata": {},
   "outputs": [
    {
     "name": "stdout",
     "output_type": "stream",
     "text": [
      "Epoch: 1/6, Loss: 0.3578\n",
      "Validation Accuracy: 94.17%\n",
      "Epoch: 2/6, Loss: 0.1812\n",
      "Validation Accuracy: 95.38%\n",
      "Epoch: 3/6, Loss: 0.1415\n",
      "Validation Accuracy: 96.05%\n",
      "Epoch: 4/6, Loss: 0.1263\n",
      "Validation Accuracy: 96.23%\n",
      "Epoch: 5/6, Loss: 0.1181\n",
      "Validation Accuracy: 96.16%\n",
      "Epoch: 6/6, Loss: 0.1157\n",
      "Validation Accuracy: 96.41%\n"
     ]
    }
   ],
   "source": [
    "# Train the model\n",
    "train_model(rnn_model, train_loader, val_loader, criterion_rnn, optimizer_rnn, num_epochs=6)\n",
    "\n",
    "# Save the model\n",
    "torch.save(rnn_model.state_dict(), 'rnn.pth')"
   ]
  },
  {
   "cell_type": "markdown",
   "metadata": {},
   "source": [
    "Again you can load the model from a save file to save time on training it."
   ]
  },
  {
   "cell_type": "code",
   "execution_count": 27,
   "metadata": {},
   "outputs": [
    {
     "data": {
      "text/plain": [
       "RNN_GRU(\n",
       "  (embedding): Embedding(30522, 768, padding_idx=0)\n",
       "  (gru): GRU(768, 256, num_layers=2, batch_first=True, dropout=0.3, bidirectional=True)\n",
       "  (fc): Linear(in_features=512, out_features=3, bias=True)\n",
       "  (dropout): Dropout(p=0.3, inplace=False)\n",
       ")"
      ]
     },
     "execution_count": 27,
     "metadata": {},
     "output_type": "execute_result"
    }
   ],
   "source": [
    "# Load the model\n",
    "rnn_model = RNN_GRU(vocab_size, embedding_dim, hidden_dim, output_dim, \n",
    "                n_layers, bidirectional, dropout, pad_index)\n",
    "rnn_model.load_state_dict(torch.load('rnn.pth', weights_only=True))\n",
    "rnn_model.eval()\n",
    "rnn_model.to(device)"
   ]
  },
  {
   "cell_type": "code",
   "execution_count": 28,
   "metadata": {},
   "outputs": [
    {
     "name": "stdout",
     "output_type": "stream",
     "text": [
      "RNN Model Accuracy: 0.96\n"
     ]
    },
    {
     "data": {
      "image/png": "[encoded data removed]",
      "text/plain": [
       "<Figure size 800x600 with 2 Axes>"
      ]
     },
     "metadata": {},
     "output_type": "display_data"
    }
   ],
   "source": [
    "y_true_rnn, y_pred_rnn = evaluate_model_all(rnn_model, test_loader, device)\n",
    "\n",
    "accuracy_rnn = np.mean(y_true_rnn == y_pred_rnn)\n",
    "print(f\"RNN Model Accuracy: {accuracy_rnn:.2f}\")\n",
    "\n",
    "plot_confusion_matrix(y_true_rnn, y_pred_rnn, class_names)"
   ]
  },
  {
   "cell_type": "markdown",
   "metadata": {},
   "source": [
    "### Convolutional Neural Network"
   ]
  },
  {
   "cell_type": "markdown",
   "metadata": {},
   "source": [
    "(c) Mia Müßig"
   ]
  }
 ],
 "metadata": {
  "kernelspec": {
   "display_name": "Python 3",
   "language": "python",
   "name": "python3"
  },
  "language_info": {
   "codemirror_mode": {
    "name": "ipython",
    "version": 3
   },
   "file_extension": ".py",
   "mimetype": "text/x-python",
   "name": "python",
   "nbconvert_exporter": "python",
   "pygments_lexer": "ipython3",
   "version": "3.10.12"
  }
 },
 "nbformat": 4,
 "nbformat_minor": 2
}
